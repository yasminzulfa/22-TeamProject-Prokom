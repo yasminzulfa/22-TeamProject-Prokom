{
  "cells": [
    {
      "cell_type": "markdown",
      "metadata": {},
      "source": [
        "Mengimport module"
      ]
    },
    {
      "cell_type": "code",
      "execution_count": 123,
      "metadata": {
        "id": "HinHw8R2Hd2F"
      },
      "outputs": [],
      "source": [
        "import pandas as pd\n",
        "import numpy as np\n",
        "import Modul as m"
      ]
    },
    {
      "cell_type": "markdown",
      "metadata": {},
      "source": [
        "Membaca file excel\n"
      ]
    },
    {
      "cell_type": "code",
      "execution_count": 124,
      "metadata": {
        "id": "iCdy8fj23Ys8"
      },
      "outputs": [],
      "source": [
        "df = pd.read_excel('Database.xlsx')\n",
        "df2 = pd.read_excel('Daftar Pickup.xlsx')"
      ]
    },
    {
      "cell_type": "code",
      "execution_count": 125,
      "metadata": {
        "id": "lVqBoT8rKi8s"
      },
      "outputs": [],
      "source": [
        "df_baru = df.dropna()\n",
        "df2_baru = df2.dropna()\n",
        "Harga = df_baru.drop('kode', axis =1)\n",
        "Harga2 = df2.drop('No', axis =1)"
      ]
    },
    {
      "cell_type": "code",
      "execution_count": 126,
      "metadata": {},
      "outputs": [
        {
          "name": "stdout",
          "output_type": "stream",
          "text": [
            "Kota pickup Anda: Surakarta\n"
          ]
        },
        {
          "data": {
            "text/plain": [
              "1400"
            ]
          },
          "execution_count": 126,
          "metadata": {},
          "output_type": "execute_result"
        }
      ],
      "source": [
        "def cekKotaAsal():\n",
        "    while True:\n",
        "      pickup = input(\"Masukkan kota Pickup (Contoh : Surakarta) : \")\n",
        "      pickup = pickup.capitalize()\n",
        "      cek = pickup in df2.tempat.unique()\n",
        "      if cek == True:\n",
        "        print(\"Kota pickup Anda: \" + pickup)\n",
        "        return pickup\n",
        "        break\n",
        "      else:\n",
        "        print(\"Kota pickup tidak terdaftar, silahkan masukkan kembali\")\n",
        "\n",
        "kota_asal = cekKotaAsal()\n",
        "\n",
        "def hitungongkir(kota, berat, ekspedisi, fee):\n",
        "    harga_ongkir = (Harga.loc[df['ibukota'] == kota, ekspedisi].iloc[0])*berat\n",
        "    fee = (Harga2.loc[df2['tempat'] == kota_asal, ekspedisi].iloc[0]) * berat\n",
        "    total = int(harga_ongkir) + int(fee)\n",
        "    return total\n",
        "\n",
        "\n"
      ]
    },
    {
      "cell_type": "code",
      "execution_count": null,
      "metadata": {},
      "outputs": [],
      "source": [
        "print('Selamat Datang di Ongkirku')\n",
        "print(\"Berikut adalah daftar kota yang ada dalam program kami:\")\n",
        "\n",
        "for index, row in df_baru.iterrows():\n",
        "    print(str(index) + \".\", row[\"ibukota\"].title())\n",
        "\n",
        "print()\n",
        "while True:\n",
        "    cari = input('Apakah kamu mau mencari biaya ongkir dari Jawa Tengah?(iya/tidak): ')\n",
        "      \n",
        "\n",
        "    if cari.lower() == 'iya': \n",
        "        tujuan = m.cekKota()\n",
        "\n",
        "        while True:\n",
        "                \n",
        "                #bila ingin masukkan berat bisa float\n",
        "            try :\n",
        "                berat = float(input('Masukkan berat paket(kg): '))\n",
        "                print('berat paket Anda:', berat ,'Kg')\n",
        "                break\n",
        "            except:\n",
        "                print('Masukkan data berupa angka')\n",
        "            \n",
        "        ekspedisi = ['J&T Express', 'JNE', 'SiCepat Express','Tiki ','Pos Indonesia']\n",
        "        harga2 = []\n",
        "\n",
        "        for i in ekspedisi:\n",
        "            ber = hitungongkir(tujuan,berat, i, kota_asal)\n",
        "            harga2.append(int(ber))\n",
        "            \n",
        "\n",
        "        print()\n",
        "        print('Ini list rekomendasi kami untuk mu ^_^')\n",
        "        print(m.rekomendasi(ekspedisi, harga2))\n",
        "        print()\n",
        "      \n",
        "    elif cari.lower() == 'tidak':\n",
        "        print('Oke, Terima Kasih telah menggunakan Ongkirku ^_^')\n",
        "        break\n",
        "\n",
        "    else:\n",
        "        print('Silahkan pilih iya atau tidak')\n",
        "\n"
      ]
    }
  ],
  "metadata": {
    "colab": {
      "collapsed_sections": [],
      "name": "Projek Pemrograman.ipynb",
      "provenance": []
    },
    "kernelspec": {
      "display_name": "Python 3.9.7 ('base')",
      "language": "python",
      "name": "python3"
    },
    "language_info": {
      "codemirror_mode": {
        "name": "ipython",
        "version": 3
      },
      "file_extension": ".py",
      "mimetype": "text/x-python",
      "name": "python",
      "nbconvert_exporter": "python",
      "pygments_lexer": "ipython3",
      "version": "3.9.7"
    },
    "vscode": {
      "interpreter": {
        "hash": "d3054124312dba3be733dbe3285d55a46c664c1e53e3dcd14fdc327287a3f636"
      }
    }
  },
  "nbformat": 4,
  "nbformat_minor": 0
}
