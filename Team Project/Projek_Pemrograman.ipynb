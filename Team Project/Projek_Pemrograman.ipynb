{
  "cells": [
    {
      "cell_type": "markdown",
      "metadata": {},
      "source": [
        "Mengimport module"
      ]
    },
    {
      "cell_type": "code",
      "execution_count": 9,
      "metadata": {
        "id": "HinHw8R2Hd2F"
      },
      "outputs": [],
      "source": [
        "import pandas as pd\n",
        "import numpy as np"
      ]
    },
    {
      "cell_type": "markdown",
      "metadata": {},
      "source": [
        "Membaca file excel\n"
      ]
    },
    {
      "cell_type": "code",
      "execution_count": 10,
      "metadata": {
        "id": "iCdy8fj23Ys8"
      },
      "outputs": [],
      "source": [
        "df = pd.read_excel('Project UAS Pengantar Pemrograman.xlsx')"
      ]
    },
    {
      "cell_type": "code",
      "execution_count": 11,
      "metadata": {
        "id": "lVqBoT8rKi8s"
      },
      "outputs": [],
      "source": [
        "df_baru = df.dropna()\n",
        "Harga = df_baru.drop('no.', axis =1)"
      ]
    },
    {
      "cell_type": "code",
      "execution_count": 12,
      "metadata": {
        "id": "TAPfrDTOz7Lv"
      },
      "outputs": [],
      "source": [
        "def cekKota():\n",
        "    while True:\n",
        "      tujuan = input(\"Masukkan kota tujuan: \")\n",
        "      tujuan = tujuan.lower()\n",
        "      cek = tujuan in df.ibukota.unique()\n",
        "      if cek == True:\n",
        "        print(\"Kota tujuan Anda: \" + tujuan.capitalize())\n",
        "        return tujuan\n",
        "        break\n",
        "      else:\n",
        "        print(\"Kota tujuan tidak terdaftar, silahkan masukkan kembali\")\n",
        "      \n",
        "\n",
        "def rekomendasi(ekspedisi, harga2):\n",
        "    \n",
        "    tampilan = {'Ekpedisi' : ekspedisi,\n",
        "                 'Harga': harga2}\n",
        "    df_tampil = pd.DataFrame(tampilan, index = np.arange(1, 6))\n",
        "    dft = df_tampil.sort_values(by = 'Harga')\n",
        "    dft.index = np.arange(1,6)\n",
        "    return(dft)\n",
        "\n",
        "def hitungongkir(kota, berat, ekspedisi):\n",
        "    harga_ongkir = (Harga.loc[df['ibukota'] == kota, ekspedisi].iloc[0])*berat\n",
        "    return harga_ongkir"
      ]
    },
    {
      "cell_type": "code",
      "execution_count": 13,
      "metadata": {
        "colab": {
          "base_uri": "https://localhost:8080/",
          "height": 397
        },
        "id": "89vAPoDU0OdM",
        "outputId": "1125a3ca-09b9-46a5-acf5-77b81e74e49a"
      },
      "outputs": [
        {
          "name": "stdout",
          "output_type": "stream",
          "text": [
            "Selamat Datang di Ongkirku\n",
            "Berikut adalah daftar kota yang ada dalam program kami:\n",
            "1. Banda Aceh\n",
            "2. Medan\n",
            "3. Palembang\n",
            "4. Padang\n",
            "5. Bengkulu\n",
            "6. Pekanbaru\n",
            "7. Tanjung Pinang\n",
            "8. Jambi\n",
            "9. Bandar Lampung\n",
            "10. Pangkal Pinang\n",
            "11. Pontianak\n",
            "12. Samarinda\n",
            "13. Banjarmasin\n",
            "14. Palangkaraya\n",
            "15. Tanjung Selor\n",
            "16. Serang\n",
            "17. Jakarta\n",
            "18. Bandung\n",
            "19. Surabaya\n",
            "20. Yogyakarta\n",
            "21. Denpasar\n",
            "22. Kupang\n",
            "23. Mataram\n",
            "24. Gorontalo\n",
            "25. Mamuju\n",
            "26. Palu\n",
            "27. Manado\n",
            "28. Kendari\n",
            "29. Makassar\n",
            "30. Ternate\n",
            "31. Ambon\n",
            "32. Manukwari\n",
            "33. Jayapura\n",
            "\n",
            "Kota tujuan Anda: Jakarta\n",
            "berat paket Anda: 2.0 Kg\n",
            "\n",
            "Ini list rekomendasi kami untuk mu ^_^\n"
          ]
        },
        {
          "data": {
            "text/html": [
              "<div>\n",
              "<style scoped>\n",
              "    .dataframe tbody tr th:only-of-type {\n",
              "        vertical-align: middle;\n",
              "    }\n",
              "\n",
              "    .dataframe tbody tr th {\n",
              "        vertical-align: top;\n",
              "    }\n",
              "\n",
              "    .dataframe thead th {\n",
              "        text-align: right;\n",
              "    }\n",
              "</style>\n",
              "<table border=\"1\" class=\"dataframe\">\n",
              "  <thead>\n",
              "    <tr style=\"text-align: right;\">\n",
              "      <th></th>\n",
              "      <th>Ekpedisi</th>\n",
              "      <th>Harga</th>\n",
              "    </tr>\n",
              "  </thead>\n",
              "  <tbody>\n",
              "    <tr>\n",
              "      <th>1</th>\n",
              "      <td>Pos Indonesia</td>\n",
              "      <td>23000</td>\n",
              "    </tr>\n",
              "    <tr>\n",
              "      <th>2</th>\n",
              "      <td>Tiki</td>\n",
              "      <td>28000</td>\n",
              "    </tr>\n",
              "    <tr>\n",
              "      <th>3</th>\n",
              "      <td>J&amp;T Express</td>\n",
              "      <td>30000</td>\n",
              "    </tr>\n",
              "    <tr>\n",
              "      <th>4</th>\n",
              "      <td>JNE</td>\n",
              "      <td>30000</td>\n",
              "    </tr>\n",
              "    <tr>\n",
              "      <th>5</th>\n",
              "      <td>SiCepat Express</td>\n",
              "      <td>34000</td>\n",
              "    </tr>\n",
              "  </tbody>\n",
              "</table>\n",
              "</div>"
            ],
            "text/plain": [
              "          Ekpedisi  Harga\n",
              "1    Pos Indonesia  23000\n",
              "2            Tiki   28000\n",
              "3      J&T Express  30000\n",
              "4              JNE  30000\n",
              "5  SiCepat Express  34000"
            ]
          },
          "metadata": {},
          "output_type": "display_data"
        },
        {
          "name": "stdout",
          "output_type": "stream",
          "text": [
            "\n",
            "Oke, Terima Kasih telah menggunakan Ongkirku ^_^\n"
          ]
        }
      ],
      "source": [
        "print('Selamat Datang di Ongkirku')\n",
        "print(\"Berikut adalah daftar kota yang ada dalam program kami:\")\n",
        "for index, row in df_baru.iterrows():\n",
        "    print(str(index) + \".\", row[\"ibukota\"].title())\n",
        "print()\n",
        "while True:\n",
        "      cari = input('Apakah kamu mau mencari biaya ongkir dari Jawa Tengah?(iya/tidak): ')\n",
        "      \n",
        "\n",
        "      if cari.lower() == 'iya': \n",
        "          tujuan = cekKota()\n",
        "\n",
        "          while True:\n",
        "                \n",
        "                #bila ingin masukkan berat bisa float\n",
        "                try :\n",
        "                    berat = float(input('Masukkan berat paket(kg): '))\n",
        "                    print('berat paket Anda:', berat ,'Kg')\n",
        "                    break\n",
        "                except:\n",
        "                    print('Masukkan data berupa angka')\n",
        "            \n",
        "          ekspedisi = ['J&T Express', 'JNE', 'SiCepat Express','Tiki ','Pos Indonesia']\n",
        "          harga2 = []\n",
        "\n",
        "          for i in ekspedisi:\n",
        "              ber = hitungongkir(tujuan,berat, i)\n",
        "              harga2.append(int(ber))\n",
        "\n",
        "          print()\n",
        "          print('Ini list rekomendasi kami untuk mu ^_^')\n",
        "          display(rekomendasi(ekspedisi, harga2))\n",
        "          print()\n",
        "      \n",
        "      elif cari.lower() == 'tidak':\n",
        "          print('Oke, Terima Kasih telah menggunakan Ongkirku ^_^')\n",
        "          break\n",
        "\n",
        "      else:\n",
        "          print('Silahkan pilih iya atau tidak')\n",
        "\n",
        "\n"
      ]
    }
  ],
  "metadata": {
    "colab": {
      "collapsed_sections": [],
      "name": "Projek Pemrograman.ipynb",
      "provenance": []
    },
    "interpreter": {
      "hash": "d3054124312dba3be733dbe3285d55a46c664c1e53e3dcd14fdc327287a3f636"
    },
    "kernelspec": {
      "display_name": "Python 3.9.7 ('base')",
      "language": "python",
      "name": "python3"
    },
    "language_info": {
      "codemirror_mode": {
        "name": "ipython",
        "version": 3
      },
      "file_extension": ".py",
      "mimetype": "text/x-python",
      "name": "python",
      "nbconvert_exporter": "python",
      "pygments_lexer": "ipython3",
      "version": "3.9.7"
    }
  },
  "nbformat": 4,
  "nbformat_minor": 0
}
